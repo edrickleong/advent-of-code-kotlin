{
 "cells": [
  {
   "cell_type": "code",
   "execution_count": null,
   "metadata": {
    "collapsed": true
   },
   "outputs": [],
   "source": [
    "import java.io.File\n",
    "\n",
    "val input = File(\"example.txt\").readLines()\n",
    "input"
   ]
  },
  {
   "cell_type": "code",
   "execution_count": null,
   "outputs": [],
   "source": [
    "val cardsToBid = input.map { it.split(\" \").let { it[0] to it[1].toInt() } }\n",
    "cardsToBid"
   ],
   "metadata": {
    "collapsed": false
   }
  },
  {
   "cell_type": "code",
   "execution_count": null,
   "outputs": [],
   "source": [
    "enum class HandType {\n",
    "    HighCard,\n",
    "    OnePair,\n",
    "    TwoPair,\n",
    "    ThreeOfAKind,\n",
    "    FullHouse,\n",
    "    FourOfAKind,\n",
    "    FiveOfAKind,\n",
    "}\n",
    "\n",
    "data class Hand(\n",
    "    val cards: String,\n",
    ") : Comparable<Hand> {\n",
    "    val handType: HandType\n",
    "    val cardStrengths = \"J23456789TQKA\"\n",
    "\n",
    "    init {\n",
    "        val cardToCount = mutableMapOf<Char, Int>().withDefault { 0 }\n",
    "        cards.forEach { cardToCount[it] = cardToCount.getValue(it) + 1 }\n",
    "        val numberOfJokers = cardToCount.remove('J') ?: 0\n",
    "        val cardWithHighestCount = cardToCount.maxByOrNull { it.value }?.key ?: cardStrengths.last()\n",
    "        cardToCount[cardWithHighestCount] = cardToCount.getValue(cardWithHighestCount) + numberOfJokers\n",
    "\n",
    "        handType = when {\n",
    "            5 in cardToCount.values -> HandType.FiveOfAKind\n",
    "            4 in cardToCount.values -> HandType.FourOfAKind\n",
    "            3 in cardToCount.values && 2 in cardToCount.values -> HandType.FullHouse\n",
    "            3 in cardToCount.values -> HandType.ThreeOfAKind\n",
    "            cardToCount.values.count { it == 2 } == 2 -> HandType.TwoPair\n",
    "            2 in cardToCount.values -> HandType.OnePair\n",
    "            else -> HandType.HighCard\n",
    "        }\n",
    "    }\n",
    "\n",
    "\n",
    "    override fun compareTo(other: Hand): Int {\n",
    "        if (handType != other.handType) return compareValues(handType.ordinal, other.handType.ordinal)\n",
    "        for ((card, otherCard) in cards.zip(other.cards)) {\n",
    "            val comparison = compareValues(cardStrengths.indexOf(card), cardStrengths.indexOf(otherCard))\n",
    "            if (comparison != 0) return comparison\n",
    "        }\n",
    "        return 0\n",
    "    }\n",
    "\n",
    "    override fun toString() = \"$cards ($handType)\"\n",
    "}\n",
    "\n",
    "%use dataframe\n",
    "val handToBidFromWeakest = cardsToBid.map { (cards, bid) -> Hand(cards) to bid }.sortedBy { it.first }\n",
    "handToBidFromWeakest.toDataFrame()"
   ],
   "metadata": {
    "collapsed": false
   }
  },
  {
   "cell_type": "code",
   "execution_count": null,
   "outputs": [],
   "source": [
    "handToBidFromWeakest.mapIndexed { index, pair -> (index + 1) * pair.second }.sum()"
   ],
   "metadata": {
    "collapsed": false
   }
  }
 ],
 "metadata": {
  "kernelspec": {
   "display_name": "Kotlin",
   "language": "kotlin",
   "name": "kotlin"
  },
  "language_info": {
   "name": "kotlin",
   "version": "1.9.0",
   "mimetype": "text/x-kotlin",
   "file_extension": ".kt",
   "pygments_lexer": "kotlin",
   "codemirror_mode": "text/x-kotlin",
   "nbconvert_exporter": ""
  }
 },
 "nbformat": 4,
 "nbformat_minor": 0
}
