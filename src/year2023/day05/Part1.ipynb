{
 "cells": [
  {
   "cell_type": "code",
   "execution_count": null,
   "metadata": {
    "collapsed": true
   },
   "outputs": [],
   "source": [
    "import java.io.File\n",
    "\n",
    "val input = File(\"input.txt\").readLines()\n",
    "input"
   ]
  },
  {
   "cell_type": "code",
   "execution_count": null,
   "outputs": [],
   "source": [
    "val seeds = input[0]\n",
    "    .substringAfter(\":\")\n",
    "    .trim()\n",
    "    .split(\"\\\\s+\".toRegex())\n",
    "    .map { it.toLong() }\n",
    "seeds"
   ],
   "metadata": {
    "collapsed": false
   }
  },
  {
   "cell_type": "code",
   "execution_count": null,
   "outputs": [],
   "source": [
    "val mapBlocks = input.drop(2).fold(mutableListOf(mutableListOf<String>())) { blocks, line ->\n",
    "    if (line.isBlank()) {\n",
    "        blocks.add(mutableListOf())\n",
    "    } else {\n",
    "        blocks.last().add(line)\n",
    "    }\n",
    "    blocks\n",
    "}\n",
    "mapBlocks.joinToString(\"\\n\\n\") { it.joinToString(\"\\n\") }"
   ],
   "metadata": {
    "collapsed": false
   }
  },
  {
   "cell_type": "code",
   "execution_count": null,
   "outputs": [],
   "source": [
    "data class MappingRange(\n",
    "    val source: Long,\n",
    "    val destination: Long,\n",
    "    val length: Long,\n",
    ")\n",
    "\n",
    "val mappingRangesByCategory = mapBlocks.map { mapBlock ->\n",
    "    val mapLines = mapBlock.drop(1)\n",
    "    mapLines.map {\n",
    "        val (destination, source, range) = it.split(\" \").map { it.toLong() }\n",
    "        MappingRange(source, destination, range)\n",
    "    }\n",
    "}\n",
    "mappingRangesByCategory.joinToString(\"\\n\\n\") { it.joinToString(\"\\n\") }"
   ],
   "metadata": {
    "collapsed": false
   }
  },
  {
   "cell_type": "code",
   "execution_count": null,
   "outputs": [],
   "source": [
    "var numbers = seeds\n",
    "\n",
    "for (mappingRanges in mappingRangesByCategory) {\n",
    "    val nextNumbers = mutableListOf<Long>()\n",
    "    number@ for (number in numbers) {\n",
    "        for (mappingRange in mappingRanges) {\n",
    "            if (number in mappingRange.source..(mappingRange.source + mappingRange.length)) {\n",
    "                nextNumbers.add(mappingRange.destination + (number - mappingRange.source))\n",
    "                continue@number\n",
    "            }\n",
    "        }\n",
    "        nextNumbers.add(number)\n",
    "    }\n",
    "    numbers = nextNumbers\n",
    "}\n",
    "\n",
    "numbers.min()"
   ],
   "metadata": {
    "collapsed": false
   }
  }
 ],
 "metadata": {
  "kernelspec": {
   "display_name": "Kotlin",
   "language": "kotlin",
   "name": "kotlin"
  },
  "language_info": {
   "name": "kotlin",
   "version": "1.9.0",
   "mimetype": "text/x-kotlin",
   "file_extension": ".kt",
   "pygments_lexer": "kotlin",
   "codemirror_mode": "text/x-kotlin",
   "nbconvert_exporter": ""
  },
  "ktnbPluginMetadata": {
   "projectDependencies": true
  }
 },
 "nbformat": 4,
 "nbformat_minor": 0
}
