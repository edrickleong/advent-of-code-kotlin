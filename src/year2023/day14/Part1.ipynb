{
 "cells": [
  {
   "cell_type": "code",
   "execution_count": null,
   "metadata": {
    "collapsed": true
   },
   "outputs": [],
   "source": [
    "import java.io.File\n",
    "\n",
    "val input = File(\"input.txt\").readLines()\n",
    "input"
   ]
  },
  {
   "cell_type": "code",
   "execution_count": null,
   "outputs": [],
   "source": [
    "val rowIndices = input.indices\n",
    "val colIndices = input[0].indices\n",
    "\n",
    "var load = 0\n",
    "for (colIndex in colIndices) {\n",
    "    var lastIndex = 0\n",
    "    for (rowIndex in rowIndices) {\n",
    "        val cell = input[rowIndex][colIndex]\n",
    "        when (cell) {\n",
    "            'O' -> {\n",
    "                val numberOfRowsToSouth = input.size - lastIndex\n",
    "                load += numberOfRowsToSouth\n",
    "                lastIndex++\n",
    "            }\n",
    "            '#' -> lastIndex = rowIndex + 1\n",
    "        }\n",
    "    }\n",
    "}\n",
    "load"
   ],
   "metadata": {
    "collapsed": false
   }
  }
 ],
 "metadata": {
  "kernelspec": {
   "display_name": "Kotlin",
   "language": "kotlin",
   "name": "kotlin"
  },
  "language_info": {
   "name": "kotlin",
   "version": "1.9.0",
   "mimetype": "text/x-kotlin",
   "file_extension": ".kt",
   "pygments_lexer": "kotlin",
   "codemirror_mode": "text/x-kotlin",
   "nbconvert_exporter": ""
  }
 },
 "nbformat": 4,
 "nbformat_minor": 0
}
