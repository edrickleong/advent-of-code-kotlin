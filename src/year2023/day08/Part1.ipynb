{
 "cells": [
  {
   "cell_type": "code",
   "execution_count": null,
   "metadata": {
    "collapsed": true
   },
   "outputs": [],
   "source": [
    "import java.io.File\n",
    "\n",
    "val input = File(\"input.txt\").readLines()\n",
    "input"
   ]
  },
  {
   "cell_type": "code",
   "execution_count": null,
   "outputs": [],
   "source": [
    "val instructions = input[0].trim()\n",
    "instructions"
   ],
   "metadata": {
    "collapsed": false
   }
  },
  {
   "cell_type": "code",
   "execution_count": null,
   "outputs": [],
   "source": [
    "val nodeToDestinations = input.drop(2).associate { line -> \n",
    "    val (from, destination) = line.split(\"=\").map { it.trim() }\n",
    "    val (left, right) = destination.split(\",\").map { it.trim { it.isWhitespace() || it in \"()\" } }\n",
    "    from to (left to right)\n",
    "}\n",
    "nodeToDestinations"
   ],
   "metadata": {
    "collapsed": false
   }
  },
  {
   "cell_type": "code",
   "execution_count": null,
   "outputs": [],
   "source": [
    "var currentNode = \"AAA\"\n",
    "var numberOfInstructions = 0\n",
    "loop@while (true) {\n",
    "    for (instruction in instructions) {\n",
    "        val (left, right) = nodeToDestinations[currentNode]!!\n",
    "        currentNode = when (instruction) {\n",
    "            'L' -> left\n",
    "            'R' -> right\n",
    "            else -> throw Exception(\"Unknown instruction $instruction\")\n",
    "        }\n",
    "        numberOfInstructions++\n",
    "        if (currentNode == \"ZZZ\") break@loop\n",
    "    }\n",
    "}\n",
    "numberOfInstructions"
   ],
   "metadata": {
    "collapsed": false
   }
  }
 ],
 "metadata": {
  "kernelspec": {
   "display_name": "Kotlin",
   "language": "kotlin",
   "name": "kotlin"
  },
  "language_info": {
   "name": "kotlin",
   "version": "1.9.0",
   "mimetype": "text/x-kotlin",
   "file_extension": ".kt",
   "pygments_lexer": "kotlin",
   "codemirror_mode": "text/x-kotlin",
   "nbconvert_exporter": ""
  }
 },
 "nbformat": 4,
 "nbformat_minor": 0
}
