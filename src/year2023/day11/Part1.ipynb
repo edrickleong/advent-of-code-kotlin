{
 "cells": [
  {
   "cell_type": "code",
   "execution_count": null,
   "metadata": {
    "collapsed": true
   },
   "outputs": [],
   "source": [
    "import java.io.File\n",
    "\n",
    "val input = File(\"input.txt\").readLines()\n",
    "input.joinToString(\"\\n\")"
   ]
  },
  {
   "cell_type": "code",
   "execution_count": null,
   "outputs": [],
   "source": [
    "val emptyRows = mutableListOf<Int>()\n",
    "for (i in input.indices) {\n",
    "    if (input[i].all { it == '.' }) {\n",
    "        emptyRows.add(i)\n",
    "    }\n",
    "}\n",
    "emptyRows"
   ],
   "metadata": {
    "collapsed": false
   }
  },
  {
   "cell_type": "code",
   "execution_count": null,
   "outputs": [],
   "source": [
    "val emptyColumns = mutableListOf<Int>()\n",
    "for (i in input.indices) {\n",
    "    if (input.all { it[i] == '.' }) {\n",
    "        emptyColumns.add(i)\n",
    "    }\n",
    "}\n",
    "emptyColumns"
   ],
   "metadata": {
    "collapsed": false
   }
  },
  {
   "cell_type": "code",
   "execution_count": null,
   "outputs": [],
   "source": [
    "val galaxies = mutableListOf<Pair<Int, Int>>()\n",
    "for (i in input.indices) {\n",
    "    for (j in input[i].indices) {\n",
    "        if (input[i][j] == '#') {\n",
    "            galaxies.add(Pair(i, j))\n",
    "        }\n",
    "    }\n",
    "}\n",
    "galaxies"
   ],
   "metadata": {
    "collapsed": false
   }
  },
  {
   "cell_type": "code",
   "execution_count": null,
   "outputs": [],
   "source": [
    "var totalLength = 0\n",
    "for (i in galaxies.indices) {\n",
    "    for (j in i + 1..galaxies.lastIndex) {\n",
    "        val (x1, y1) = galaxies[i]\n",
    "        val (x2, y2) = galaxies[j]\n",
    "        val minX = minOf(x1, x2)\n",
    "        val maxX = maxOf(x1, x2)\n",
    "        val minY = minOf(y1, y2)\n",
    "        val maxY = maxOf(y1, y2)\n",
    "        val numberOfEmptyRowsBetween = emptyRows.count { it in minX+1..<maxX }\n",
    "        val numberOfEmptyColumnsBetween = emptyColumns.count { it in minY+1..<maxY }\n",
    "        val length = (maxX - minX) + (maxY - minY) + numberOfEmptyRowsBetween + numberOfEmptyColumnsBetween\n",
    "        totalLength += length\n",
    "    }\n",
    "}\n",
    "println(totalLength)"
   ],
   "metadata": {
    "collapsed": false
   }
  }
 ],
 "metadata": {
  "kernelspec": {
   "display_name": "Kotlin",
   "language": "kotlin",
   "name": "kotlin"
  },
  "language_info": {
   "name": "kotlin",
   "version": "1.9.0",
   "mimetype": "text/x-kotlin",
   "file_extension": ".kt",
   "pygments_lexer": "kotlin",
   "codemirror_mode": "text/x-kotlin",
   "nbconvert_exporter": ""
  }
 },
 "nbformat": 4,
 "nbformat_minor": 0
}
