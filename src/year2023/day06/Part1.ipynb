{
 "cells": [
  {
   "cell_type": "code",
   "execution_count": null,
   "metadata": {
    "collapsed": true
   },
   "outputs": [],
   "source": [
    "import java.io.File\n",
    "\n",
    "val input = File(\"input.txt\").readLines()\n",
    "input"
   ]
  },
  {
   "cell_type": "code",
   "execution_count": null,
   "outputs": [],
   "source": [
    "val totalTimePerRound = input[0].substringAfter(\":\").trim().split(\"\\\\s+\".toRegex()).map { it.toInt() }\n",
    "totalTimePerRound"
   ],
   "metadata": {
    "collapsed": false
   }
  },
  {
   "cell_type": "code",
   "execution_count": null,
   "outputs": [],
   "source": [
    "val recordDistancePerRound = input[1].substringAfter(\":\").trim().split(\"\\\\s+\".toRegex()).map { it.toInt() }\n",
    "recordDistancePerRound"
   ],
   "metadata": {
    "collapsed": false
   }
  },
  {
   "cell_type": "code",
   "execution_count": null,
   "outputs": [],
   "source": [
    "val winsPerRound = totalTimePerRound.indices.map { roundIndex ->\n",
    "    val totalTime = totalTimePerRound[roundIndex]\n",
    "        val recordDistance  = recordDistancePerRound[roundIndex]\n",
    "    (0..totalTime).count { timeToCharge ->\n",
    "        val speed = timeToCharge\n",
    "        val distance = speed * (totalTime - timeToCharge)\n",
    "        distance > recordDistance\n",
    "    }\n",
    "}\n",
    "winsPerRound"
   ],
   "metadata": {
    "collapsed": false
   }
  },
  {
   "cell_type": "code",
   "execution_count": null,
   "outputs": [],
   "source": [
    "winsPerRound.fold(1) { acc, i -> acc * i } "
   ],
   "metadata": {
    "collapsed": false
   }
  }
 ],
 "metadata": {
  "kernelspec": {
   "display_name": "Kotlin",
   "language": "kotlin",
   "name": "kotlin"
  },
  "language_info": {
   "name": "kotlin",
   "version": "1.9.0",
   "mimetype": "text/x-kotlin",
   "file_extension": ".kt",
   "pygments_lexer": "kotlin",
   "codemirror_mode": "text/x-kotlin",
   "nbconvert_exporter": ""
  }
 },
 "nbformat": 4,
 "nbformat_minor": 0
}
